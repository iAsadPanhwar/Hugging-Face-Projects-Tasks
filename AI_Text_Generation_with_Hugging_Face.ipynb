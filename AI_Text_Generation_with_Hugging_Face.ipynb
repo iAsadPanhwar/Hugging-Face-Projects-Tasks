{
  "nbformat": 4,
  "nbformat_minor": 0,
  "metadata": {
    "colab": {
      "provenance": []
    },
    "kernelspec": {
      "name": "python3",
      "display_name": "Python 3"
    },
    "language_info": {
      "name": "python"
    }
  },
  "cells": [
    {
      "cell_type": "code",
      "source": [
        "from transformers import pipeline\n",
        "\n",
        "generator = pipeline(\n",
        "    task = 'text-generation',\n",
        "    model = 'EleutherAI/gpt-neo-2.7B',\n",
        ")"
      ],
      "metadata": {
        "colab": {
          "base_uri": "https://localhost:8080/"
        },
        "id": "QvaZZVPmFFbs",
        "outputId": "571f31ea-5ebf-43f6-8cd0-122a3deeff94"
      },
      "execution_count": 1,
      "outputs": [
        {
          "output_type": "stream",
          "name": "stderr",
          "text": [
            "/usr/local/lib/python3.10/dist-packages/huggingface_hub/utils/_token.py:89: UserWarning: \n",
            "The secret `HF_TOKEN` does not exist in your Colab secrets.\n",
            "To authenticate with the Hugging Face Hub, create a token in your settings tab (https://huggingface.co/settings/tokens), set it as secret in your Google Colab and restart your session.\n",
            "You will be able to reuse this secret in all of your notebooks.\n",
            "Please note that authentication is recommended but still optional to access public models or datasets.\n",
            "  warnings.warn(\n"
          ]
        }
      ]
    },
    {
      "cell_type": "code",
      "source": [
        "prompt = \"What is the meaning of life?\""
      ],
      "metadata": {
        "id": "KSuikcNSF1sI"
      },
      "execution_count": 2,
      "outputs": []
    },
    {
      "cell_type": "code",
      "source": [
        "res = generator(prompt, max_length = 150, do_sample = True, temperature = 0.9)"
      ],
      "metadata": {
        "colab": {
          "base_uri": "https://localhost:8080/"
        },
        "id": "mlD_R5akWEpm",
        "outputId": "5ff60cd5-691e-47d3-88e0-0b7c095b9689"
      },
      "execution_count": 7,
      "outputs": [
        {
          "output_type": "stream",
          "name": "stderr",
          "text": [
            "Setting `pad_token_id` to `eos_token_id`:50256 for open-end generation.\n"
          ]
        }
      ]
    },
    {
      "cell_type": "code",
      "source": [
        "print(res[0]['generated_text'])"
      ],
      "metadata": {
        "colab": {
          "base_uri": "https://localhost:8080/"
        },
        "id": "kNnIh_VCaQfh",
        "outputId": "67a359b3-60c8-42d4-f3ad-ab9a938da6dc"
      },
      "execution_count": 8,
      "outputs": [
        {
          "output_type": "stream",
          "name": "stdout",
          "text": [
            "What is the meaning of life?\n",
            "\n",
            "Let me first start by saying that I am no stranger to life. After having my own company for over 9 years now, I have traveled and lived all over the world. I’ve eaten every kind of food and drunk every kind of drink that you could imagine. But I’ve never truly considered what it means to live. It’s as if, no matter how much I live, how little a part of life I get is “living” itself. The more I thought about it, the more I understood that maybe we only just start to live when we are born. We are born, as many people have said, with a pre-established idea of who\n"
          ]
        }
      ]
    },
    {
      "cell_type": "code",
      "source": [
        "with open('output.txt', 'w') as f:\n",
        "    f.writelines(res[0]['generated_text'])"
      ],
      "metadata": {
        "id": "8hz1TGRpiBt5"
      },
      "execution_count": 9,
      "outputs": []
    },
    {
      "cell_type": "code",
      "source": [],
      "metadata": {
        "id": "QL1-Xg8p4CHd"
      },
      "execution_count": null,
      "outputs": []
    }
  ]
}